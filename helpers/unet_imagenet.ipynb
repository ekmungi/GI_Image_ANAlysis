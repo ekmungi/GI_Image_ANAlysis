{
 "cells": [
  {
   "cell_type": "code",
   "execution_count": 1,
   "metadata": {},
   "outputs": [],
   "source": [
    "import numpy as np\n",
    "import torch"
   ]
  },
  {
   "cell_type": "code",
   "execution_count": null,
   "metadata": {},
   "outputs": [],
   "source": [
    "# a sample down block\n",
    "def make_conv_bn_relu(in_channels, out_channels, kernel_size=3, stride=1, padding=1):\n",
    "    return [\n",
    "        nn.Conv2d(in_channels, out_channels, kernel_size=kernel_size,  stride=stride, padding=padding, bias=False),\n",
    "        nn.BatchNorm2d(out_channels),\n",
    "        nn.ReLU(inplace=True)\n",
    "    ]\n",
    "\n",
    "\n",
    "self.down1 = nn.Sequential(\n",
    "    *make_conv_bn_relu(in_channels, 64, kernel_size=3, stride=1, padding=1 ),\n",
    "    *make_conv_bn_relu(64, 64, kernel_size=3, stride=1, padding=1 ),\n",
    ")\n",
    "\n",
    "# convolutions followed by a maxpool\n",
    "down1 = self.down1(x)\n",
    "out1   = F.max_pool2d(down1, kernel_size=2, stride=2)"
   ]
  },
  {
   "cell_type": "code",
   "execution_count": null,
   "metadata": {},
   "outputs": [],
   "source": [
    "# a sample up block\n",
    "\n",
    "self.up4 = nn.Sequential(\n",
    "    *make_conv_bn_relu(128,64, kernel_size=3, stride=1, padding=1 ),\n",
    "    *make_conv_bn_relu(64,64, kernel_size=3, stride=1, padding=1 )\n",
    ")\n",
    "\n",
    "self.final_conv = nn.Conv2d(32, num_classes, kernel_size=1, stride=1, padding=0 )\n",
    "\n",
    "# upsample out_last, concatenate with down1 and apply conv operations\n",
    "out   = F.upsample(out_last, scale_factor=2, mode='bilinear')  \n",
    "out   = torch.cat([down1, out], 1)\n",
    "out   = self.up4(out)\n",
    "\n",
    "# final 1x1 conv for predictions\n",
    "final_out = self.final_conv(out)"
   ]
  }
 ],
 "metadata": {
  "kernelspec": {
   "display_name": "Python 3",
   "language": "python",
   "name": "python3"
  },
  "language_info": {
   "codemirror_mode": {
    "name": "ipython",
    "version": 3
   },
   "file_extension": ".py",
   "mimetype": "text/x-python",
   "name": "python",
   "nbconvert_exporter": "python",
   "pygments_lexer": "ipython3",
   "version": "3.6.5"
  }
 },
 "nbformat": 4,
 "nbformat_minor": 2
}
